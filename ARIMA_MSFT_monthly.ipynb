{
 "cells": [
  {
   "cell_type": "code",
   "execution_count": null,
   "id": "fff4e52a-841e-4b1b-88f3-24ff71081ada",
   "metadata": {},
   "outputs": [],
   "source": []
  },
  {
   "cell_type": "code",
   "execution_count": 1,
   "id": "2e767ed9-c98d-455c-b356-2d00e9ad5e2b",
   "metadata": {},
   "outputs": [],
   "source": [
    "# Import packages and libraries\n",
    "import numpy as np\n",
    "import pandas as pd\n",
    "import matplotlib.pyplot as plt\n",
    "import math\n",
    "\n",
    "\n",
    "import warnings\n",
    "warnings.filterwarnings(\"ignore\", category=FutureWarning)\n",
    "\n",
    "from statsmodels.tsa.stattools import adfuller  # test for stationarity\n",
    "from statsmodels.graphics.tsaplots import plot_acf, plot_pacf  # determine p and q arguments of ARIMA(p,q,d)\n",
    "\n",
    "from statsmodels.tsa.seasonal import seasonal_decompose\n",
    "\n",
    "from statsmodels.tsa.arima.model import ARIMA  # model\n",
    "\n",
    "from pmdarima.arima import auto_arima\n",
    "from pmdarima.arima.utils import ndiffs\n",
    "\n",
    "from sklearn.metrics import r2_score, mean_squared_error, mean_absolute_error\n",
    "\n"
   ]
  },
  {
   "cell_type": "code",
   "execution_count": 2,
   "id": "c7efeebc-fe17-4fc1-af17-8216dd5be5b5",
   "metadata": {},
   "outputs": [
    {
     "ename": "FileNotFoundError",
     "evalue": "[Errno 2] No such file or directory: 'logarithmic_7_adj_close.csv'",
     "output_type": "error",
     "traceback": [
      "\u001b[0;31m---------------------------------------------------------------------------\u001b[0m",
      "\u001b[0;31mFileNotFoundError\u001b[0m                         Traceback (most recent call last)",
      "Input \u001b[0;32mIn [2]\u001b[0m, in \u001b[0;36m<cell line: 2>\u001b[0;34m()\u001b[0m\n\u001b[1;32m      1\u001b[0m \u001b[38;5;66;03m# Reading in the data\u001b[39;00m\n\u001b[0;32m----> 2\u001b[0m data \u001b[38;5;241m=\u001b[39m \u001b[43mpd\u001b[49m\u001b[38;5;241;43m.\u001b[39;49m\u001b[43mread_csv\u001b[49m\u001b[43m(\u001b[49m\u001b[38;5;124;43m'\u001b[39;49m\u001b[38;5;124;43mlogarithmic_7_adj_close.csv\u001b[39;49m\u001b[38;5;124;43m'\u001b[39;49m\u001b[43m)\u001b[49m\n\u001b[1;32m      3\u001b[0m data\u001b[38;5;241m.\u001b[39mhead()\n",
      "File \u001b[0;32m~/opt/anaconda3/lib/python3.9/site-packages/pandas/util/_decorators.py:311\u001b[0m, in \u001b[0;36mdeprecate_nonkeyword_arguments.<locals>.decorate.<locals>.wrapper\u001b[0;34m(*args, **kwargs)\u001b[0m\n\u001b[1;32m    305\u001b[0m \u001b[38;5;28;01mif\u001b[39;00m \u001b[38;5;28mlen\u001b[39m(args) \u001b[38;5;241m>\u001b[39m num_allow_args:\n\u001b[1;32m    306\u001b[0m     warnings\u001b[38;5;241m.\u001b[39mwarn(\n\u001b[1;32m    307\u001b[0m         msg\u001b[38;5;241m.\u001b[39mformat(arguments\u001b[38;5;241m=\u001b[39marguments),\n\u001b[1;32m    308\u001b[0m         \u001b[38;5;167;01mFutureWarning\u001b[39;00m,\n\u001b[1;32m    309\u001b[0m         stacklevel\u001b[38;5;241m=\u001b[39mstacklevel,\n\u001b[1;32m    310\u001b[0m     )\n\u001b[0;32m--> 311\u001b[0m \u001b[38;5;28;01mreturn\u001b[39;00m \u001b[43mfunc\u001b[49m\u001b[43m(\u001b[49m\u001b[38;5;241;43m*\u001b[39;49m\u001b[43margs\u001b[49m\u001b[43m,\u001b[49m\u001b[43m \u001b[49m\u001b[38;5;241;43m*\u001b[39;49m\u001b[38;5;241;43m*\u001b[39;49m\u001b[43mkwargs\u001b[49m\u001b[43m)\u001b[49m\n",
      "File \u001b[0;32m~/opt/anaconda3/lib/python3.9/site-packages/pandas/io/parsers/readers.py:680\u001b[0m, in \u001b[0;36mread_csv\u001b[0;34m(filepath_or_buffer, sep, delimiter, header, names, index_col, usecols, squeeze, prefix, mangle_dupe_cols, dtype, engine, converters, true_values, false_values, skipinitialspace, skiprows, skipfooter, nrows, na_values, keep_default_na, na_filter, verbose, skip_blank_lines, parse_dates, infer_datetime_format, keep_date_col, date_parser, dayfirst, cache_dates, iterator, chunksize, compression, thousands, decimal, lineterminator, quotechar, quoting, doublequote, escapechar, comment, encoding, encoding_errors, dialect, error_bad_lines, warn_bad_lines, on_bad_lines, delim_whitespace, low_memory, memory_map, float_precision, storage_options)\u001b[0m\n\u001b[1;32m    665\u001b[0m kwds_defaults \u001b[38;5;241m=\u001b[39m _refine_defaults_read(\n\u001b[1;32m    666\u001b[0m     dialect,\n\u001b[1;32m    667\u001b[0m     delimiter,\n\u001b[0;32m   (...)\u001b[0m\n\u001b[1;32m    676\u001b[0m     defaults\u001b[38;5;241m=\u001b[39m{\u001b[38;5;124m\"\u001b[39m\u001b[38;5;124mdelimiter\u001b[39m\u001b[38;5;124m\"\u001b[39m: \u001b[38;5;124m\"\u001b[39m\u001b[38;5;124m,\u001b[39m\u001b[38;5;124m\"\u001b[39m},\n\u001b[1;32m    677\u001b[0m )\n\u001b[1;32m    678\u001b[0m kwds\u001b[38;5;241m.\u001b[39mupdate(kwds_defaults)\n\u001b[0;32m--> 680\u001b[0m \u001b[38;5;28;01mreturn\u001b[39;00m \u001b[43m_read\u001b[49m\u001b[43m(\u001b[49m\u001b[43mfilepath_or_buffer\u001b[49m\u001b[43m,\u001b[49m\u001b[43m \u001b[49m\u001b[43mkwds\u001b[49m\u001b[43m)\u001b[49m\n",
      "File \u001b[0;32m~/opt/anaconda3/lib/python3.9/site-packages/pandas/io/parsers/readers.py:575\u001b[0m, in \u001b[0;36m_read\u001b[0;34m(filepath_or_buffer, kwds)\u001b[0m\n\u001b[1;32m    572\u001b[0m _validate_names(kwds\u001b[38;5;241m.\u001b[39mget(\u001b[38;5;124m\"\u001b[39m\u001b[38;5;124mnames\u001b[39m\u001b[38;5;124m\"\u001b[39m, \u001b[38;5;28;01mNone\u001b[39;00m))\n\u001b[1;32m    574\u001b[0m \u001b[38;5;66;03m# Create the parser.\u001b[39;00m\n\u001b[0;32m--> 575\u001b[0m parser \u001b[38;5;241m=\u001b[39m \u001b[43mTextFileReader\u001b[49m\u001b[43m(\u001b[49m\u001b[43mfilepath_or_buffer\u001b[49m\u001b[43m,\u001b[49m\u001b[43m \u001b[49m\u001b[38;5;241;43m*\u001b[39;49m\u001b[38;5;241;43m*\u001b[39;49m\u001b[43mkwds\u001b[49m\u001b[43m)\u001b[49m\n\u001b[1;32m    577\u001b[0m \u001b[38;5;28;01mif\u001b[39;00m chunksize \u001b[38;5;129;01mor\u001b[39;00m iterator:\n\u001b[1;32m    578\u001b[0m     \u001b[38;5;28;01mreturn\u001b[39;00m parser\n",
      "File \u001b[0;32m~/opt/anaconda3/lib/python3.9/site-packages/pandas/io/parsers/readers.py:933\u001b[0m, in \u001b[0;36mTextFileReader.__init__\u001b[0;34m(self, f, engine, **kwds)\u001b[0m\n\u001b[1;32m    930\u001b[0m     \u001b[38;5;28mself\u001b[39m\u001b[38;5;241m.\u001b[39moptions[\u001b[38;5;124m\"\u001b[39m\u001b[38;5;124mhas_index_names\u001b[39m\u001b[38;5;124m\"\u001b[39m] \u001b[38;5;241m=\u001b[39m kwds[\u001b[38;5;124m\"\u001b[39m\u001b[38;5;124mhas_index_names\u001b[39m\u001b[38;5;124m\"\u001b[39m]\n\u001b[1;32m    932\u001b[0m \u001b[38;5;28mself\u001b[39m\u001b[38;5;241m.\u001b[39mhandles: IOHandles \u001b[38;5;241m|\u001b[39m \u001b[38;5;28;01mNone\u001b[39;00m \u001b[38;5;241m=\u001b[39m \u001b[38;5;28;01mNone\u001b[39;00m\n\u001b[0;32m--> 933\u001b[0m \u001b[38;5;28mself\u001b[39m\u001b[38;5;241m.\u001b[39m_engine \u001b[38;5;241m=\u001b[39m \u001b[38;5;28;43mself\u001b[39;49m\u001b[38;5;241;43m.\u001b[39;49m\u001b[43m_make_engine\u001b[49m\u001b[43m(\u001b[49m\u001b[43mf\u001b[49m\u001b[43m,\u001b[49m\u001b[43m \u001b[49m\u001b[38;5;28;43mself\u001b[39;49m\u001b[38;5;241;43m.\u001b[39;49m\u001b[43mengine\u001b[49m\u001b[43m)\u001b[49m\n",
      "File \u001b[0;32m~/opt/anaconda3/lib/python3.9/site-packages/pandas/io/parsers/readers.py:1217\u001b[0m, in \u001b[0;36mTextFileReader._make_engine\u001b[0;34m(self, f, engine)\u001b[0m\n\u001b[1;32m   1213\u001b[0m     mode \u001b[38;5;241m=\u001b[39m \u001b[38;5;124m\"\u001b[39m\u001b[38;5;124mrb\u001b[39m\u001b[38;5;124m\"\u001b[39m\n\u001b[1;32m   1214\u001b[0m \u001b[38;5;66;03m# error: No overload variant of \"get_handle\" matches argument types\u001b[39;00m\n\u001b[1;32m   1215\u001b[0m \u001b[38;5;66;03m# \"Union[str, PathLike[str], ReadCsvBuffer[bytes], ReadCsvBuffer[str]]\"\u001b[39;00m\n\u001b[1;32m   1216\u001b[0m \u001b[38;5;66;03m# , \"str\", \"bool\", \"Any\", \"Any\", \"Any\", \"Any\", \"Any\"\u001b[39;00m\n\u001b[0;32m-> 1217\u001b[0m \u001b[38;5;28mself\u001b[39m\u001b[38;5;241m.\u001b[39mhandles \u001b[38;5;241m=\u001b[39m \u001b[43mget_handle\u001b[49m\u001b[43m(\u001b[49m\u001b[43m  \u001b[49m\u001b[38;5;66;43;03m# type: ignore[call-overload]\u001b[39;49;00m\n\u001b[1;32m   1218\u001b[0m \u001b[43m    \u001b[49m\u001b[43mf\u001b[49m\u001b[43m,\u001b[49m\n\u001b[1;32m   1219\u001b[0m \u001b[43m    \u001b[49m\u001b[43mmode\u001b[49m\u001b[43m,\u001b[49m\n\u001b[1;32m   1220\u001b[0m \u001b[43m    \u001b[49m\u001b[43mencoding\u001b[49m\u001b[38;5;241;43m=\u001b[39;49m\u001b[38;5;28;43mself\u001b[39;49m\u001b[38;5;241;43m.\u001b[39;49m\u001b[43moptions\u001b[49m\u001b[38;5;241;43m.\u001b[39;49m\u001b[43mget\u001b[49m\u001b[43m(\u001b[49m\u001b[38;5;124;43m\"\u001b[39;49m\u001b[38;5;124;43mencoding\u001b[39;49m\u001b[38;5;124;43m\"\u001b[39;49m\u001b[43m,\u001b[49m\u001b[43m \u001b[49m\u001b[38;5;28;43;01mNone\u001b[39;49;00m\u001b[43m)\u001b[49m\u001b[43m,\u001b[49m\n\u001b[1;32m   1221\u001b[0m \u001b[43m    \u001b[49m\u001b[43mcompression\u001b[49m\u001b[38;5;241;43m=\u001b[39;49m\u001b[38;5;28;43mself\u001b[39;49m\u001b[38;5;241;43m.\u001b[39;49m\u001b[43moptions\u001b[49m\u001b[38;5;241;43m.\u001b[39;49m\u001b[43mget\u001b[49m\u001b[43m(\u001b[49m\u001b[38;5;124;43m\"\u001b[39;49m\u001b[38;5;124;43mcompression\u001b[39;49m\u001b[38;5;124;43m\"\u001b[39;49m\u001b[43m,\u001b[49m\u001b[43m \u001b[49m\u001b[38;5;28;43;01mNone\u001b[39;49;00m\u001b[43m)\u001b[49m\u001b[43m,\u001b[49m\n\u001b[1;32m   1222\u001b[0m \u001b[43m    \u001b[49m\u001b[43mmemory_map\u001b[49m\u001b[38;5;241;43m=\u001b[39;49m\u001b[38;5;28;43mself\u001b[39;49m\u001b[38;5;241;43m.\u001b[39;49m\u001b[43moptions\u001b[49m\u001b[38;5;241;43m.\u001b[39;49m\u001b[43mget\u001b[49m\u001b[43m(\u001b[49m\u001b[38;5;124;43m\"\u001b[39;49m\u001b[38;5;124;43mmemory_map\u001b[39;49m\u001b[38;5;124;43m\"\u001b[39;49m\u001b[43m,\u001b[49m\u001b[43m \u001b[49m\u001b[38;5;28;43;01mFalse\u001b[39;49;00m\u001b[43m)\u001b[49m\u001b[43m,\u001b[49m\n\u001b[1;32m   1223\u001b[0m \u001b[43m    \u001b[49m\u001b[43mis_text\u001b[49m\u001b[38;5;241;43m=\u001b[39;49m\u001b[43mis_text\u001b[49m\u001b[43m,\u001b[49m\n\u001b[1;32m   1224\u001b[0m \u001b[43m    \u001b[49m\u001b[43merrors\u001b[49m\u001b[38;5;241;43m=\u001b[39;49m\u001b[38;5;28;43mself\u001b[39;49m\u001b[38;5;241;43m.\u001b[39;49m\u001b[43moptions\u001b[49m\u001b[38;5;241;43m.\u001b[39;49m\u001b[43mget\u001b[49m\u001b[43m(\u001b[49m\u001b[38;5;124;43m\"\u001b[39;49m\u001b[38;5;124;43mencoding_errors\u001b[39;49m\u001b[38;5;124;43m\"\u001b[39;49m\u001b[43m,\u001b[49m\u001b[43m \u001b[49m\u001b[38;5;124;43m\"\u001b[39;49m\u001b[38;5;124;43mstrict\u001b[39;49m\u001b[38;5;124;43m\"\u001b[39;49m\u001b[43m)\u001b[49m\u001b[43m,\u001b[49m\n\u001b[1;32m   1225\u001b[0m \u001b[43m    \u001b[49m\u001b[43mstorage_options\u001b[49m\u001b[38;5;241;43m=\u001b[39;49m\u001b[38;5;28;43mself\u001b[39;49m\u001b[38;5;241;43m.\u001b[39;49m\u001b[43moptions\u001b[49m\u001b[38;5;241;43m.\u001b[39;49m\u001b[43mget\u001b[49m\u001b[43m(\u001b[49m\u001b[38;5;124;43m\"\u001b[39;49m\u001b[38;5;124;43mstorage_options\u001b[39;49m\u001b[38;5;124;43m\"\u001b[39;49m\u001b[43m,\u001b[49m\u001b[43m \u001b[49m\u001b[38;5;28;43;01mNone\u001b[39;49;00m\u001b[43m)\u001b[49m\u001b[43m,\u001b[49m\n\u001b[1;32m   1226\u001b[0m \u001b[43m\u001b[49m\u001b[43m)\u001b[49m\n\u001b[1;32m   1227\u001b[0m \u001b[38;5;28;01massert\u001b[39;00m \u001b[38;5;28mself\u001b[39m\u001b[38;5;241m.\u001b[39mhandles \u001b[38;5;129;01mis\u001b[39;00m \u001b[38;5;129;01mnot\u001b[39;00m \u001b[38;5;28;01mNone\u001b[39;00m\n\u001b[1;32m   1228\u001b[0m f \u001b[38;5;241m=\u001b[39m \u001b[38;5;28mself\u001b[39m\u001b[38;5;241m.\u001b[39mhandles\u001b[38;5;241m.\u001b[39mhandle\n",
      "File \u001b[0;32m~/opt/anaconda3/lib/python3.9/site-packages/pandas/io/common.py:789\u001b[0m, in \u001b[0;36mget_handle\u001b[0;34m(path_or_buf, mode, encoding, compression, memory_map, is_text, errors, storage_options)\u001b[0m\n\u001b[1;32m    784\u001b[0m \u001b[38;5;28;01melif\u001b[39;00m \u001b[38;5;28misinstance\u001b[39m(handle, \u001b[38;5;28mstr\u001b[39m):\n\u001b[1;32m    785\u001b[0m     \u001b[38;5;66;03m# Check whether the filename is to be opened in binary mode.\u001b[39;00m\n\u001b[1;32m    786\u001b[0m     \u001b[38;5;66;03m# Binary mode does not support 'encoding' and 'newline'.\u001b[39;00m\n\u001b[1;32m    787\u001b[0m     \u001b[38;5;28;01mif\u001b[39;00m ioargs\u001b[38;5;241m.\u001b[39mencoding \u001b[38;5;129;01mand\u001b[39;00m \u001b[38;5;124m\"\u001b[39m\u001b[38;5;124mb\u001b[39m\u001b[38;5;124m\"\u001b[39m \u001b[38;5;129;01mnot\u001b[39;00m \u001b[38;5;129;01min\u001b[39;00m ioargs\u001b[38;5;241m.\u001b[39mmode:\n\u001b[1;32m    788\u001b[0m         \u001b[38;5;66;03m# Encoding\u001b[39;00m\n\u001b[0;32m--> 789\u001b[0m         handle \u001b[38;5;241m=\u001b[39m \u001b[38;5;28;43mopen\u001b[39;49m\u001b[43m(\u001b[49m\n\u001b[1;32m    790\u001b[0m \u001b[43m            \u001b[49m\u001b[43mhandle\u001b[49m\u001b[43m,\u001b[49m\n\u001b[1;32m    791\u001b[0m \u001b[43m            \u001b[49m\u001b[43mioargs\u001b[49m\u001b[38;5;241;43m.\u001b[39;49m\u001b[43mmode\u001b[49m\u001b[43m,\u001b[49m\n\u001b[1;32m    792\u001b[0m \u001b[43m            \u001b[49m\u001b[43mencoding\u001b[49m\u001b[38;5;241;43m=\u001b[39;49m\u001b[43mioargs\u001b[49m\u001b[38;5;241;43m.\u001b[39;49m\u001b[43mencoding\u001b[49m\u001b[43m,\u001b[49m\n\u001b[1;32m    793\u001b[0m \u001b[43m            \u001b[49m\u001b[43merrors\u001b[49m\u001b[38;5;241;43m=\u001b[39;49m\u001b[43merrors\u001b[49m\u001b[43m,\u001b[49m\n\u001b[1;32m    794\u001b[0m \u001b[43m            \u001b[49m\u001b[43mnewline\u001b[49m\u001b[38;5;241;43m=\u001b[39;49m\u001b[38;5;124;43m\"\u001b[39;49m\u001b[38;5;124;43m\"\u001b[39;49m\u001b[43m,\u001b[49m\n\u001b[1;32m    795\u001b[0m \u001b[43m        \u001b[49m\u001b[43m)\u001b[49m\n\u001b[1;32m    796\u001b[0m     \u001b[38;5;28;01melse\u001b[39;00m:\n\u001b[1;32m    797\u001b[0m         \u001b[38;5;66;03m# Binary mode\u001b[39;00m\n\u001b[1;32m    798\u001b[0m         handle \u001b[38;5;241m=\u001b[39m \u001b[38;5;28mopen\u001b[39m(handle, ioargs\u001b[38;5;241m.\u001b[39mmode)\n",
      "\u001b[0;31mFileNotFoundError\u001b[0m: [Errno 2] No such file or directory: 'logarithmic_7_adj_close.csv'"
     ]
    }
   ],
   "source": [
    "# Reading in the data\n",
    "data = pd.read_csv('logarithmic_7_adj_close.csv')\n",
    "data.head()"
   ]
  },
  {
   "cell_type": "code",
   "execution_count": null,
   "id": "372298e2-fb14-4c02-80e7-8a148448e811",
   "metadata": {},
   "outputs": [],
   "source": [
    "# Selecting sub-set of features\n",
    "df= data[['timestamp', 'msft_adj_close']]\n",
    "df"
   ]
  },
  {
   "cell_type": "code",
   "execution_count": null,
   "id": "fdabcdb8-425b-4554-ba36-7e1d0937321d",
   "metadata": {},
   "outputs": [],
   "source": [
    "# Convert the 'Date' column to datetime format\n",
    "df['timestamp']= pd.to_datetime(df['timestamp'])\n",
    "df.info()"
   ]
  },
  {
   "cell_type": "code",
   "execution_count": null,
   "id": "34e86e11-fc3a-4730-a138-1c4281d157f5",
   "metadata": {},
   "outputs": [],
   "source": [
    "# Set Index \n",
    "df.set_index('timestamp',inplace=True)"
   ]
  },
  {
   "cell_type": "code",
   "execution_count": null,
   "id": "00a3bfb0-4fce-4224-aa2a-490fabd49355",
   "metadata": {},
   "outputs": [],
   "source": [
    "df"
   ]
  },
  {
   "cell_type": "code",
   "execution_count": null,
   "id": "fc7fd9b3-64ac-428e-9c75-a1b5a15908fb",
   "metadata": {},
   "outputs": [],
   "source": [
    "# Resample Data to Monthly instead of Daily by Aggregating Using Mean\n",
    "monthly_avg = df['msft_adj_close'].resample('M').mean()\n",
    "monthly_avg"
   ]
  },
  {
   "cell_type": "code",
   "execution_count": null,
   "id": "07029d8a-9b33-49d0-b38b-224345ec4d3f",
   "metadata": {},
   "outputs": [],
   "source": [
    "monthly_avg = monthly_avg.to_frame()\n",
    "monthly_avg"
   ]
  },
  {
   "cell_type": "code",
   "execution_count": null,
   "id": "cb8e353b-7b61-43dd-b491-6e8f8aa1838c",
   "metadata": {},
   "outputs": [],
   "source": [
    "plt.plot(monthly_avg)\n",
    "plt.show()"
   ]
  },
  {
   "cell_type": "markdown",
   "id": "aba643b9-32cb-4e2e-8bd6-66f8ee456f15",
   "metadata": {
    "tags": []
   },
   "source": [
    "### 2. Check for stationarity - Augmented Dickey Fuller (ADF) test \n",
    "\n",
    "The null hypothesis of the ADF test is \n",
    "that the time series is non-stationary.\n",
    "\n",
    "if p-value < 0.05 then series is stationary\n",
    "if p-value > 0.05 then series in non-stationary\n",
    "\n",
    "#### in our case, p-value = 0.850147, hence series is non-stationary\n",
    "\n"
   ]
  },
  {
   "cell_type": "code",
   "execution_count": null,
   "id": "4293b040-052d-4285-812a-f4fe8066a6c0",
   "metadata": {},
   "outputs": [],
   "source": [
    "# Checking whether series is stationary using Augmented\n",
    "# Dickey Fuller (ADF) test\n",
    "\n",
    "result = adfuller(monthly_avg.dropna())\n",
    "print('ADF Statistic: %f' % result[0])\n",
    "print('p-value: %f' % result[1])\n"
   ]
  },
  {
   "cell_type": "code",
   "execution_count": null,
   "id": "65d63b03-20a3-4ad7-85dd-52629e95fcd6",
   "metadata": {},
   "outputs": [],
   "source": [
    "# Differenced data\n",
    "prices_diff = monthly_avg.diff().dropna()\n",
    "\n",
    "# ADF test\n",
    "adf_res_diff_data = adfuller(prices_diff)\n",
    "print(f'ADF Statistic: {adf_res_diff_data[0]}')\n",
    "print(f'p-value:  {adf_res_diff_data[1]}')\n",
    "\n"
   ]
  },
  {
   "cell_type": "code",
   "execution_count": null,
   "id": "920dc723-cfec-4ff1-874b-404a40cfd482",
   "metadata": {},
   "outputs": [],
   "source": [
    "# Plot original and differenced data\n",
    "plt.plot(monthly_avg, 'blue', label = 'adjusted close')\n",
    "plt.plot(monthly_avg.diff().dropna(), 'red', label = 'adjusted close 1st differencing') \n",
    "\n",
    "plt.legend()\n",
    "plt.show()\n"
   ]
  },
  {
   "cell_type": "markdown",
   "id": "2b4d570d-e34a-4074-9418-06ef43f8e246",
   "metadata": {},
   "source": [
    "#### * We can also make use of .ndiffs() method from pmdadima"
   ]
  },
  {
   "cell_type": "code",
   "execution_count": null,
   "id": "94ac9eb9-8b5c-4bb6-84f2-1b3f2f53420e",
   "metadata": {},
   "outputs": [],
   "source": [
    "# Using .ndiffs() method from pmdadima to determine the minimum number of differencing required to \n",
    "# make data stationary\n",
    "d = ndiffs(monthly_avg, test = 'adf')\n",
    "print(f'The number of differencing required for this data to be stationary is {d}.')"
   ]
  },
  {
   "cell_type": "markdown",
   "id": "1870a3cd-0aee-441c-b6e8-ddc8f63371b0",
   "metadata": {},
   "source": [
    "### 3. Explore (separate) trend and seasonality"
   ]
  },
  {
   "cell_type": "code",
   "execution_count": null,
   "id": "b5dfb22d-4d82-4098-a714-edb3eaf89b3a",
   "metadata": {},
   "outputs": [],
   "source": [
    "plt.rcParams[\"figure.figsize\"] = (16,9)\n",
    "\n",
    "result = seasonal_decompose(monthly_avg['msft_adj_close'], model = 'additive', period = 20)  #model = 'multiplicative'\n",
    "result.plot()\n",
    "\n",
    "plt.show()"
   ]
  },
  {
   "cell_type": "markdown",
   "id": "dfcf418d-ead4-4412-b2f5-966a33055eda",
   "metadata": {},
   "source": [
    "### 4. Determine order for AR component 'p' using partial autocorrelation plot\n"
   ]
  },
  {
   "cell_type": "code",
   "execution_count": null,
   "id": "e6f7faf4-3b65-4018-9d62-20b935d4f053",
   "metadata": {},
   "outputs": [],
   "source": [
    "# Set a variable with differenced data\n",
    "diff_data = monthly_avg.msft_adj_close.diff().dropna()\n",
    "\n",
    "# PACF  \n",
    "plot_pacf(diff_data)\n",
    "plt.ylim(-0.25, 1.1)\n",
    "plt.savefig('PACF.pdf')\n",
    "\n",
    "# ACF\n",
    "plot_acf(diff_data)\n",
    "plt.ylim(-0.25, 1.1)\n",
    "plt.savefig('ACF.pdf')\n",
    "plt.show()"
   ]
  },
  {
   "cell_type": "markdown",
   "id": "2b02a996-fe2e-418a-a51a-ea61246dc96f",
   "metadata": {},
   "source": [
    "### 5. Splitting tha data into train and test \n"
   ]
  },
  {
   "cell_type": "code",
   "execution_count": null,
   "id": "6ae50e53-10d5-4853-a89c-df2ec0c49d82",
   "metadata": {},
   "outputs": [],
   "source": [
    "rows = int(len(monthly_avg['msft_adj_close']) * 0.80)\n",
    "rows"
   ]
  },
  {
   "cell_type": "code",
   "execution_count": null,
   "id": "7be010ff-2cf3-4c3b-b92d-11e0d7b1acf1",
   "metadata": {},
   "outputs": [],
   "source": [
    "train = monthly_avg['msft_adj_close'][:rows]\n",
    "test = monthly_avg['msft_adj_close'][rows:]"
   ]
  },
  {
   "cell_type": "code",
   "execution_count": null,
   "id": "b44912a0-6fa3-4b58-99be-70e12ed8abe6",
   "metadata": {},
   "outputs": [],
   "source": [
    "train"
   ]
  },
  {
   "cell_type": "code",
   "execution_count": null,
   "id": "16f100f6-5140-4936-9793-9e8ee7add35d",
   "metadata": {},
   "outputs": [],
   "source": [
    "test.shape"
   ]
  },
  {
   "cell_type": "code",
   "execution_count": null,
   "id": "47c9b825-96b6-4dd3-a80c-81f24be8e3c0",
   "metadata": {},
   "outputs": [],
   "source": []
  },
  {
   "cell_type": "code",
   "execution_count": null,
   "id": "6d24cfdb-4b61-44f0-a1ad-2426ad780d8d",
   "metadata": {},
   "outputs": [],
   "source": [
    "# Use the following to determine optimal order for ARIMA components"
   ]
  },
  {
   "cell_type": "code",
   "execution_count": null,
   "id": "3130a4f2-3438-4bd4-9c0f-a4a1a8b5db29",
   "metadata": {},
   "outputs": [],
   "source": [
    "p_values = [0, 4,10, 11]\n",
    "d_values = range(0, 2)\n",
    "q_values = [0, 4,10, 11]"
   ]
  },
  {
   "cell_type": "code",
   "execution_count": null,
   "id": "740fa343-23f9-4256-befc-942fa337bc88",
   "metadata": {},
   "outputs": [],
   "source": [
    "for p in p_values:\n",
    "    for d in d_values:\n",
    "        for q in q_values:\n",
    "            order = (p,d,q)\n",
    "            # warnings.filterwarnings(\"ignore\")\n",
    "            model = ARIMA(train, order=order).fit()\n",
    "            predictions = model.predict(start=len(train), end=len(train) + len(test) - 1)\n",
    "            error = mean_squared_error(test, predictions)\n",
    "            print('ARIMA%s MSE=%.3f' % (order,error))\n",
    "        \n",
    "# best so far - ARIMA(0, 1, 0) MSE=654.110"
   ]
  },
  {
   "cell_type": "markdown",
   "id": "63fbd70f-e880-4a2d-bbb1-17cac42689f5",
   "metadata": {},
   "source": [
    "### 6. Implementing ARIMA(p,d,q) model"
   ]
  },
  {
   "cell_type": "markdown",
   "id": "03e57ca2-b538-4c85-a438-d8ad01bb6acd",
   "metadata": {},
   "source": [
    "     6.1. Training the model"
   ]
  },
  {
   "cell_type": "code",
   "execution_count": null,
   "id": "426cc527-4bfd-4afa-8578-958142cfb892",
   "metadata": {},
   "outputs": [],
   "source": [
    "# ARIMA(p,d,q) model\n",
    "model = ARIMA(train, order=(11,0,4))\n",
    "model_fit = model.fit()\n",
    "print(model_fit.summary())"
   ]
  },
  {
   "cell_type": "markdown",
   "id": "318e9d4c-e5a1-49e9-a97f-81e5a9c44f19",
   "metadata": {},
   "source": [
    "     6.1. Testing the model"
   ]
  },
  {
   "cell_type": "code",
   "execution_count": null,
   "id": "3da30782-72c1-499e-a19e-fb47a6403992",
   "metadata": {},
   "outputs": [],
   "source": [
    "y_pred = model_fit.predict(start = rows + 1, end = len(monthly_avg.msft_adj_close)) #, dynamic=True)\n",
    "print(f'ARIMA Model Test Data MSE: {np.mean((y_pred.values - test.values)**2):.3f}')\n",
    "y_pred"
   ]
  },
  {
   "cell_type": "markdown",
   "id": "b993a80b-dded-41d7-9e91-2c12d6013307",
   "metadata": {},
   "source": [
    "     6.1. Evaluating the model"
   ]
  },
  {
   "cell_type": "code",
   "execution_count": null,
   "id": "d2bba20b-2092-4790-b8b7-13b110662c77",
   "metadata": {},
   "outputs": [],
   "source": [
    "################################################################################\n",
    "# Checking the accuracy of the model.\n",
    "# r^2, Root Mean Square Error, Mean Absolute Error\n",
    "from math import sqrt\n",
    "score = r2_score(test, y_pred)\n",
    "mse = mean_squared_error(test, y_pred)\n",
    "# mse = np.mean((y_pred.values - test.values)**2)\n",
    "rmse = sqrt(mean_squared_error(test, y_pred))\n",
    "mae = mean_absolute_error(test, y_pred)\n",
    "\n",
    "\n",
    "print(\"\\n R^2 score is: {:.6f}\".format(score)) # negative when the model does not\n",
    "# print(\"\\n The MSE is: {:.6f}\".format(mse1))\n",
    "print(\"\\n The MSE is: {:.6f}\".format(mse))\n",
    "print(\"\\n The RMSE is: {:.6f}\".format(rmse))\n",
    "print(\"\\n The MAE: {:.6f} \".format(mae))"
   ]
  },
  {
   "cell_type": "code",
   "execution_count": null,
   "id": "b719f985-f877-4a05-8502-1b9ffffaeedd",
   "metadata": {},
   "outputs": [],
   "source": [
    "# Visualising log data\n",
    "plt.plot(train, 'blue', label = 'train')\n",
    "plt.plot(test, 'green', label = 'test' )\n",
    "plt.plot(y_pred, 'purple', label = 'predictions')\n",
    "# plt.xlim(3700, 4010)\n",
    "plt.legend(loc='upper left')\n",
    "plt.savefig('Adjusted_Close_Monthly_Average_Prices.pdf')\n",
    "\n",
    "plt.show()"
   ]
  },
  {
   "cell_type": "code",
   "execution_count": null,
   "id": "b5c73924-9d9f-49b5-94c1-7b533ee37086",
   "metadata": {},
   "outputs": [],
   "source": [
    "# # Visualising log data\n",
    "# plt.plot(train, 'blue', label = 'train')\n",
    "# plt.plot(test, 'green', label = 'test' )\n",
    "# plt.plot(y_pred, 'purple', label = 'predictions')\n",
    "# # plt.xlim(3700, 4010)\n",
    "# plt.legend()\n",
    "\n",
    "# plt.show()"
   ]
  },
  {
   "cell_type": "code",
   "execution_count": null,
   "id": "aeeee116-7866-4465-8bdc-d5743077c9a0",
   "metadata": {},
   "outputs": [],
   "source": []
  },
  {
   "cell_type": "markdown",
   "id": "2c7941ac-ae33-4144-9ca0-fb6c0624712e",
   "metadata": {},
   "source": [
    "### 6. Implementing SARIMA(p,d,q)(P,D,Q,M) model"
   ]
  },
  {
   "cell_type": "code",
   "execution_count": null,
   "id": "2b2fcb07-5aa1-4957-a0b8-9f5755bfbc60",
   "metadata": {},
   "outputs": [],
   "source": [
    "# from statsmodels.tsa.statespace.sarimax import SARIMAX\n",
    "# from itertools import product"
   ]
  },
  {
   "cell_type": "code",
   "execution_count": null,
   "id": "4c568296-b582-4af6-841a-55a98c66477f",
   "metadata": {},
   "outputs": [],
   "source": [
    "# best_model = SARIMAX(train, order=(11, 0, 4), seasonal_order=(2, 0, 1, 12)).fit(dis=-1)\n",
    "# # best_model.summary()"
   ]
  },
  {
   "cell_type": "code",
   "execution_count": null,
   "id": "8d690669-9c65-4652-b622-3f132305a003",
   "metadata": {},
   "outputs": [],
   "source": [
    "# y_pred = model_fit.predict(start = rows+1, end = len(monthly_avg.msft_adj_close)) #, dynamic=True)\n",
    "# print(f'SARIMA Model Test Data MSE: {np.mean((y_pred.values - test.values)**2):.3f}')\n",
    "# # y_pred"
   ]
  },
  {
   "cell_type": "code",
   "execution_count": null,
   "id": "ef916fdc-f4c6-4ccb-8ed4-387b5739d1fc",
   "metadata": {},
   "outputs": [],
   "source": [
    "# ################################################################################\n",
    "# # Checking the accuracy of the model.\n",
    "# # r^2, Root Mean Square Error, Mean Absolute Error\n",
    "# from math import sqrt\n",
    "# score = r2_score(test, y_pred)\n",
    "# mse = mean_squared_error(test, y_pred)\n",
    "# # mse = np.mean((y_pred.values - test.values)**2)\n",
    "# rmse = sqrt(mean_squared_error(test, y_pred))\n",
    "# mae = mean_absolute_error(test, y_pred)\n",
    "\n",
    "\n",
    "# print(\"\\n R^2 score is: {:.6f}\".format(score)) # negative when the model does not\n",
    "# # print(\"\\n The MSE is: {:.6f}\".format(mse1))\n",
    "# print(\"\\n The MSE is: {:.6f}\".format(mse))\n",
    "# print(\"\\n The RMSE is: {:.6f}\".format(rmse))\n",
    "# print(\"\\n The MAE: {:.6f} \".format(mae))"
   ]
  },
  {
   "cell_type": "markdown",
   "id": "a34ce1e4-7dde-4161-8f1c-e2f257f488d8",
   "metadata": {},
   "source": [
    "order=(0, 1, 0), seasonal_order=(1, 0, 1, 12) , The MSE is: 304.89977\n",
    "order=(0, 1, 0), seasonal_order=(2, 0, 1, 12) , The MSE is: 304.899778"
   ]
  },
  {
   "cell_type": "code",
   "execution_count": null,
   "id": "e2be5a48-e20f-448a-a2fe-a63e92ad13c5",
   "metadata": {},
   "outputs": [],
   "source": [
    "# # Visualising log data\n",
    "# plt.plot(train, 'blue', label = 'train')\n",
    "# plt.plot(test, 'green', label = 'test' )\n",
    "# plt.plot(y_pred, 'purple', label = 'predictions')\n",
    "# # plt.xlim(3700, 4010)\n",
    "# plt.legend()\n",
    "\n",
    "# plt.show()"
   ]
  },
  {
   "cell_type": "code",
   "execution_count": null,
   "id": "34772b28-0533-4dc8-add9-b72290b55c1b",
   "metadata": {},
   "outputs": [],
   "source": []
  },
  {
   "cell_type": "code",
   "execution_count": null,
   "id": "647a7241-3fec-43c0-aa70-71aa6eb73eb8",
   "metadata": {},
   "outputs": [],
   "source": [
    "\n",
    "# import itertools\n",
    "# # warnings.filterwarnings(\"ignore\")"
   ]
  },
  {
   "cell_type": "code",
   "execution_count": null,
   "id": "a765c764-2eee-4f2c-9c0b-47b932a406da",
   "metadata": {},
   "outputs": [],
   "source": [
    "# p = d = q = range(0, 3)\n",
    "# pdq = list(itertools.product(p, d, q))\n",
    "# seasonal_pdq = [(x[0], x[1], x[2], 12) for x in list(itertools.product(p, d, q))]\n",
    "\n",
    "# print('Examples of grid search Model parameter combinations for Seasonal-ARIMA')\n",
    "# print('SARIMAX: {} x {}'.format(pdq[1], seasonal_pdq[1]))\n",
    "     "
   ]
  },
  {
   "cell_type": "code",
   "execution_count": null,
   "id": "a2418ad3-1a57-4cb2-9ef1-07a77699f57f",
   "metadata": {},
   "outputs": [],
   "source": [
    "# list_param = []\n",
    "# list_param_seasonal=[]\n",
    "# list_results_aic=[]\n",
    "\n",
    "# for param in pdq:\n",
    "#     for param_seasonal in seasonal_pdq:\n",
    "#         try:\n",
    "#             model = SARIMAX(train, order=param,\n",
    "#                                             seasonal_order=param_seasonal,\n",
    "#                                             enforce_stationarity=False,\n",
    "#                                             enforce_invertibility=False)\n",
    "\n",
    "#             results = model.fit()\n",
    "\n",
    "#             print('ARIMA{}x{}12 - AIC:{}'.format(param, param_seasonal, results.aic))\n",
    "            \n",
    "#             list_param.append(param)\n",
    "#             list_param_seasonal.append(param_seasonal)\n",
    "#             list_results_aic.append(results.aic)\n",
    "#         except:\n",
    "#             continue"
   ]
  },
  {
   "cell_type": "code",
   "execution_count": null,
   "id": "4a4d377a-f460-4cba-adb2-e5f4aeb67406",
   "metadata": {},
   "outputs": [],
   "source": [
    "# list_param = []\n",
    "# list_param_seasonal=[]\n",
    "# list_results_aic=[]\n",
    "\n",
    "# for param in pdq:\n",
    "#     for param_seasonal in seasonal_pdq:\n",
    "#         model = SARIMAX(train,\n",
    "#                                         order=param,\n",
    "#                                         seasonal_order=param_seasonal,\n",
    "#                                         enforce_stationarity=False,\n",
    "#                                         enforce_invertibility=False)\n",
    "\n",
    "#         results = model.fit()\n",
    "\n",
    "#         print('ARIMA{}x{}12 - AIC:{}'.format(param, param_seasonal, results.aic))\n",
    "\n",
    "#         list_param.append(param)\n",
    "#         list_param_seasonal.append(param_seasonal)\n",
    "#         list_results_aic.append(results.aic)\n"
   ]
  },
  {
   "cell_type": "code",
   "execution_count": null,
   "id": "c7b99a77-cb45-44d8-ba62-de8ee3807bfc",
   "metadata": {},
   "outputs": [],
   "source": []
  }
 ],
 "metadata": {
  "kernelspec": {
   "display_name": "Python 3 (ipykernel)",
   "language": "python",
   "name": "python3"
  },
  "language_info": {
   "codemirror_mode": {
    "name": "ipython",
    "version": 3
   },
   "file_extension": ".py",
   "mimetype": "text/x-python",
   "name": "python",
   "nbconvert_exporter": "python",
   "pygments_lexer": "ipython3",
   "version": "3.9.12"
  }
 },
 "nbformat": 4,
 "nbformat_minor": 5
}
